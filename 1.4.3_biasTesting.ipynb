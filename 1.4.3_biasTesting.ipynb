{
 "cells": [
  {
   "cell_type": "code",
   "execution_count": 1,
   "metadata": {
    "collapsed": true
   },
   "outputs": [],
   "source": [
    "# (1) You're testing advertising emails for a bathing suit company and you test one version of the email \n",
    "# in February and the other in May.\n",
    "\n",
    "# There is bias in the experiment in May in that people are more likely to purchase bathing suits in the spring/summer\n",
    "# rather than a winter month like February. "
   ]
  },
  {
   "cell_type": "code",
   "execution_count": 2,
   "metadata": {
    "collapsed": true
   },
   "outputs": [],
   "source": [
    "# (2) You open a clinic to treat anxiety and find that the people who visit show a higher rate of anxiety \n",
    "# than the general population.\n",
    "\n",
    "# This is an obvious outcome because people who suspect they have anxiety would visit a clinic to treat their anxiety, \n",
    "# much like patients who visit a doctors office are often more sick than the general population. That is the reason they\n",
    "# goto doctors offices in the first place. "
   ]
  },
  {
   "cell_type": "code",
   "execution_count": 3,
   "metadata": {
    "collapsed": true
   },
   "outputs": [],
   "source": [
    "# (3) You launch a new ad billboard based campaign and see an increase in website visits in the first week.\n",
    "\n",
    "# A website can be visited from anywhere in the world whereas a billboard is static to a certain location and there is no\n",
    "# way to determine if the increase in visits is due to the billboard or not unless there were some method of identifying \n",
    "# a website users location by IP. "
   ]
  },
  {
   "cell_type": "code",
   "execution_count": null,
   "metadata": {
    "collapsed": true
   },
   "outputs": [],
   "source": [
    "# (4) You launch a loyalty program but see no change in visits in the first week.\n",
    "\n",
    "# A loyalty program would take some time to mature and return some favorable outcomes and also the members of a loyalty\n",
    "# program are most likely already customers so the loyalty program is not necessarily designed to gain more customers\n",
    "# only incentivize current customers."
   ]
  }
 ],
 "metadata": {
  "kernelspec": {
   "display_name": "Python 3",
   "language": "python",
   "name": "python3"
  },
  "language_info": {
   "codemirror_mode": {
    "name": "ipython",
    "version": 3
   },
   "file_extension": ".py",
   "mimetype": "text/x-python",
   "name": "python",
   "nbconvert_exporter": "python",
   "pygments_lexer": "ipython3",
   "version": "3.6.2"
  }
 },
 "nbformat": 4,
 "nbformat_minor": 2
}
