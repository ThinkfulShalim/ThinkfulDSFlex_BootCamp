{
 "cells": [
  {
   "cell_type": "code",
   "execution_count": 1,
   "metadata": {
    "collapsed": true
   },
   "outputs": [],
   "source": [
    "## 1.\n",
    "## I would take a look at the conversion data and items purchased by customers and might suggest a sales campaign for\n",
    "## items that were not in the current campaign but showed strong sales by converted customers. I would suggest possibly\n",
    "## running a sale on those items or even bundle items together at a markdown."
   ]
  },
  {
   "cell_type": "code",
   "execution_count": 2,
   "metadata": {
    "collapsed": true
   },
   "outputs": [],
   "source": [
    "## 2.\n",
    "## I would take a very close look at the timestamps for each step of the onboarding process and identify which step\n",
    "## hangs the clients up the most. Also, by comparing plan prices to that of competitors, we may be able to identify\n",
    "## an opportunity by possibly lessening marketing spending and giving new clients a better price on their packages."
   ]
  },
  {
   "cell_type": "code",
   "execution_count": 3,
   "metadata": {
    "collapsed": true
   },
   "outputs": [],
   "source": [
    "## 3.\n",
    "## I would suggest creating a tiered ranking search that will provide multiple search results based on price and availability.\n",
    "## For those looking for a quick booking, spending less time in their session, availability would be the priority and those\n",
    "## spending more time refining their search, price would prioritize as they probably are looking for a better deal."
   ]
  },
  {
   "cell_type": "code",
   "execution_count": null,
   "metadata": {
    "collapsed": true
   },
   "outputs": [],
   "source": [
    "## 4.\n",
    "## By taking the data provided, we could identify the average churn rate over the past 3 years and run a probability test\n",
    "## to determine if the current churn rate falls outside of the normal probability for such a rate."
   ]
  }
 ],
 "metadata": {
  "kernelspec": {
   "display_name": "Python 3",
   "language": "python",
   "name": "python3"
  },
  "language_info": {
   "codemirror_mode": {
    "name": "ipython",
    "version": 3
   },
   "file_extension": ".py",
   "mimetype": "text/x-python",
   "name": "python",
   "nbconvert_exporter": "python",
   "pygments_lexer": "ipython3",
   "version": "3.6.2"
  }
 },
 "nbformat": 4,
 "nbformat_minor": 2
}
