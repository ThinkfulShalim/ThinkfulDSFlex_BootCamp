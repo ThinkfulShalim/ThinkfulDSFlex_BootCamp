{
 "cells": [
  {
   "cell_type": "code",
   "execution_count": null,
   "metadata": {
    "collapsed": true
   },
   "outputs": [],
   "source": [
    "# (1)\n",
    "\n",
    "# The flaw lies in that a captured droid would be filled with anger, and so the slogan \"Give in to your Anger\" would\n",
    "# resonate with these droids a lot more than the slogan \"Together We Can Rule the Galaxy\" which suggests a sense of comradery.\n",
    "# I highly doubt a captured droid would feel compelled to join forces to help Darth Vader whereas angry droids would be more\n",
    "# likely to give into their anger and want to take that anger out in a destructive way, by joining the Dark side. The \"Together\"\n",
    "# slogan gives more of a sense that they are going to build something together however, I don't think a captured droid with\n",
    "# all of the emotions a prisoner would feel, would want to help their captors build, or rule anything. Changing the \"Together\"\n",
    "# slogan to resonate more with the emotions that a captured prisoner would feel would more than likely provide a better\n",
    "# experiment design. Also, there is a major flaw in the design in that two different people are giving the speeches. \n",
    "#It would be a much better design to have either Palpatine or Vader give both speeches and see what the outcomes would be."
   ]
  },
  {
   "cell_type": "code",
   "execution_count": 4,
   "metadata": {
    "collapsed": true
   },
   "outputs": [],
   "source": [
    "# (2)\n",
    "\n",
    "# Sending Mace Windu to unfriendly planets was a huge flaw in the experiment. It is much more difficult for someone to be\n",
    "# converted when their natural disposition is to be unfriendly towards whoever is trying to convert them. Jar Jar had a major\n",
    "# advantage since the planets he visited were all friendly and had a positive disposition towards the Jedi. To fix this\n",
    "# experiment, I would send Jar Jar and Mace Windu to 2 friendly planets each and 2 unfriendly planets each to give them each a\n",
    "# fair opportunity to convert friendly and unfriendly people. The only issue issue is, outside the experiment, the unfriendly\n",
    "# planets might just kill off Jar Jar because he is so damn annoying :-) "
   ]
  },
  {
   "cell_type": "code",
   "execution_count": 5,
   "metadata": {
    "collapsed": true
   },
   "outputs": [],
   "source": [
    "# (3)\n",
    "\n",
    "# In this experiment, the IT employees of the 2 countries without HR departments are going to have a very different work\n",
    "# environment compared to those in the 3 countries where HR employees work. Without the existence of HR departments, it's\n",
    "# unfair to cluster all the 5 countries IT employees together because they are not working under the same conditions. It would\n",
    "# be like combining job satisfaction data for 2 groups of employees, one group who work with a boss present everyday \n",
    "# and one group who have no one to answer to. I would consider separating the two groups, one being the employees in the 3\n",
    "# countries with HR departments and the other group being the employees of the 2 countries where there is no HR department and\n",
    "# compare the job satisfaction data against the two groups instead of aggregating the data of the 5 countries together.\n"
   ]
  },
  {
   "cell_type": "code",
   "execution_count": null,
   "metadata": {
    "collapsed": true
   },
   "outputs": [],
   "source": [
    "# (4)\n",
    "\n",
    "# Before \"opting-in\" to the data collection scheme, immediately following an install, there is no data to compare the new \n",
    "# \"rising\" levels to so its obvious that you'd see an increase in activity levels because there was literally \n",
    "# no activity, since there was no activity data. To fix this experiment, there should be a specific timeframe where activity\n",
    "# levels are recorded and treated as it's own data set then take data from a timeframe AFTER that initial data collection and\n",
    "# compare the two data sets to determine wether or not one data set shows more activity levels than the other. Also, only\n",
    "# members that opt-in to the data collection scheme are analyzed but that does not give any indication to the acitivity\n",
    "# levels of the members who do not opt-in and therefore there is bias in the design of the data collection. Analyzing the\n",
    "# data across all users that install the app would be a much better design."
   ]
  },
  {
   "cell_type": "code",
   "execution_count": null,
   "metadata": {
    "collapsed": true
   },
   "outputs": [],
   "source": [
    "# (5)\n",
    "\n",
    "# Not randomizing the order of the stacked tests presents a major flaw in the design. Students could have sat near each other\n",
    "# with version B of the test and all sat near each other if there was no assigned seating and they just filled seats\n",
    "# consecutively as they entered and cheated off each other. Also, the ease of the different versions of the test has nothing\n",
    "# to do with the original problem of cheating. If the teacher had inadvertently made an easier version of the test, that does\n",
    "# not provide any indication of cheating."
   ]
  }
 ],
 "metadata": {
  "kernelspec": {
   "display_name": "Python 3",
   "language": "python",
   "name": "python3"
  },
  "language_info": {
   "codemirror_mode": {
    "name": "ipython",
    "version": 3
   },
   "file_extension": ".py",
   "mimetype": "text/x-python",
   "name": "python",
   "nbconvert_exporter": "python",
   "pygments_lexer": "ipython3",
   "version": "3.6.2"
  }
 },
 "nbformat": 4,
 "nbformat_minor": 2
}
