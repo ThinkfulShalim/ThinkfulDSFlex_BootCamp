{
 "cells": [
  {
   "cell_type": "code",
   "execution_count": 1,
   "metadata": {
    "collapsed": true
   },
   "outputs": [],
   "source": [
    "# The Sith Lords are concerned that their recruiting slogan, \"Give In to Your Anger,\" isn't very effective. \n",
    "# Darth Vader develops an alternative slogan, \"Together We Can Rule the Galaxy.\" They compare the slogans on two groups \n",
    "# of 50 captured droids each. In one group, Emperor Palpatine delivers the \"Anger\" slogan. In the other, Darth Vader \n",
    "# presents the \"Together\" slogan. 20 droids convert to the Dark Side after hearing Palpatine's slogan, while only 5 \n",
    "# droids convert after hearing Vader's. The Sith's data scientist concludes that \"Anger\" is a more effective slogan and \n",
    "# should continue to be used."
   ]
  },
  {
   "cell_type": "code",
   "execution_count": 3,
   "metadata": {
    "collapsed": true
   },
   "outputs": [],
   "source": [
    "# Research Proposal\n",
    "\n",
    "# The Problem:\n",
    "\n",
    "# The Sith Lords are having trouble converting captured droids to the Dark Side. Two slogans will be tested to determine if\n",
    "# droids are more likely to convert when given speeches containing one of the two slogans.\n",
    "\n",
    "# Potential Solution:\n",
    "\n",
    "# A new slogan \"Together we can rule the galaxy\" will increase the conversion rate of captured droids.\n",
    "\n",
    "# Method of testing the solution:\n",
    "\n",
    "# Emporer Palpatine will give a speech using the \"Give in to your anger\" slogan (control) and the same speech using the \n",
    "# \"Together we can rule the galaxy\" slogan (treatment). We will test the slogans on 100 droids, divided into 2 groups. \n",
    "# 50 droids receive the \"Anger\" slogan and the other 50 droids receive the \"Together\" slogan. Comparing the two groups, we \n",
    "# will determine which of the slogans has a better outcome of interest, ie., which slogan has a higher conversion rate among \n",
    "# captured droids. If either slogan returns more than a 10% conversion rate compared to the other slogan, that slogan will be\n",
    "# used for all future captured droids.\n"
   ]
  }
 ],
 "metadata": {
  "kernelspec": {
   "display_name": "Python 3",
   "language": "python",
   "name": "python3"
  },
  "language_info": {
   "codemirror_mode": {
    "name": "ipython",
    "version": 3
   },
   "file_extension": ".py",
   "mimetype": "text/x-python",
   "name": "python",
   "nbconvert_exporter": "python",
   "pygments_lexer": "ipython3",
   "version": "3.6.2"
  }
 },
 "nbformat": 4,
 "nbformat_minor": 2
}
