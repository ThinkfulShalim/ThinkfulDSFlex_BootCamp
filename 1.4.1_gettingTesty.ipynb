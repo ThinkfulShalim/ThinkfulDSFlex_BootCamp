{
 "cells": [
  {
   "cell_type": "code",
   "execution_count": 2,
   "metadata": {
    "collapsed": true
   },
   "outputs": [],
   "source": [
    "# (1) Does a new supplement help people sleep better?\n",
    "\n",
    "# Two versions: A test of people not using the new supplement or a placebo supplement \n",
    "# VS a test of people using the new supplement\n",
    "\n",
    "# Sample: Everyone participating in the study makes up our sample, the subset of those not using the new supplement\n",
    "# represents one of our experimental groups and the subset of those using the new supplemenet represents our second\n",
    "# experimental group\n",
    "\n",
    "# Hypothesis: Participants who use the new supplement sleep better.\n",
    "\n",
    "# Outcomes of Interest: An expected change of how fast a person falls asleep or how 'rested' a person feels\n",
    "\n",
    "# Other measured variables: How long a person sleeps for."
   ]
  },
  {
   "cell_type": "code",
   "execution_count": null,
   "metadata": {
    "collapsed": true
   },
   "outputs": [],
   "source": [
    "# (2) Will new uniforms help a gym's business?\n",
    "\n",
    "# Two versions: A designated amount of time where employees do not wear the new uniforms VS a designated amount of time\n",
    "# where employees DO wear new uniforms.\n",
    "\n",
    "# Sample: All gym members/prospects that visit the gym during the testing period. The subset of those people that visit while\n",
    "# the new uniforms are worn would represent one of our experimental groups and the subset of those people that visit\n",
    "# while the old uniforms are worn would represent our second experimental group.\n",
    "\n",
    "# Hypothesis: New uniforms will help the gym acquire new members and/or retain current members\n",
    "\n",
    "# Outcomes of interest: An expected change of more gym memberships. Our key metric is # of gym memberships.\n",
    "\n",
    "# Other measured variables: How long members work out for, how engaged are members with staff, how frequently members visit\n",
    "# the gym."
   ]
  },
  {
   "cell_type": "code",
   "execution_count": 1,
   "metadata": {
    "collapsed": true
   },
   "outputs": [],
   "source": [
    "# (3)\n",
    "\n",
    "# Two versions: Testing traffic/rentals with the new homepage VS a test of traffic/rentals on the current homepage.\n",
    "\n",
    "# Sample: Everyone that visits the exotic pet rental website. The subset of those that experience the new homepage represents\n",
    "# one of our experimental ggroups and the subset of those that experience the current homepage represents our second group\n",
    "\n",
    "# Hypothesis: A new homepage will improve exotic pet rentals\n",
    "\n",
    "# Outcomes of Interest: An expected change of higher exotic pet rentals, specifically more pets rented more frequently\n",
    "\n",
    "# Other measured variables: Time spent on the website, conversion rate, website clicks and overall traffic"
   ]
  },
  {
   "cell_type": "code",
   "execution_count": null,
   "metadata": {
    "collapsed": true
   },
   "outputs": [],
   "source": [
    "# (4)\n",
    "\n",
    "# Two versions: One email that contains 'Please read' in the subject line and the same email, but not containing 'Please read'\n",
    "# in the subject line.\n",
    "\n",
    "# Sample: All recipients of the email. Our subset that receives the email with 'Please read' in the subject line would represent\n",
    "# one of our experiemental groups and the subset that receives the email without 'Please read' in the subject line would\n",
    "# represent our second experimental group.\n",
    "\n",
    "# Hypothesis: Putting 'Please read' in the email subject will increase the amount of people that read the emails.\n",
    "\n",
    "# Outcomes of interest: An expected change of more people opening/reading the email.\n",
    "\n",
    "# Other measured variables: Time spent reading the email (how could we measure this?) and possibly number \n",
    "# of replies to the email."
   ]
  }
 ],
 "metadata": {
  "kernelspec": {
   "display_name": "Python 3",
   "language": "python",
   "name": "python3"
  },
  "language_info": {
   "codemirror_mode": {
    "name": "ipython",
    "version": 3
   },
   "file_extension": ".py",
   "mimetype": "text/x-python",
   "name": "python",
   "nbconvert_exporter": "python",
   "pygments_lexer": "ipython3",
   "version": "3.6.2"
  }
 },
 "nbformat": 4,
 "nbformat_minor": 2
}
